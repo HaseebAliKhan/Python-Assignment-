{
 "cells": [
  {
   "cell_type": "code",
   "execution_count": 8,
   "metadata": {},
   "outputs": [
    {
     "name": "stdout",
     "output_type": "stream",
     "text": [
      "Enter first value = 3\n",
      "Enter Operator = **\n",
      "Enter second value = 2\n",
      "9 Answer\n"
     ]
    }
   ],
   "source": [
    "#1. Make a calculator using Python with addition , subtraction , multiplication , division and power. \n",
    "Val1 = int(input(\"Enter first value = \"))\n",
    "operator = (input(\"Enter Operator = \"))\n",
    "Val2 = int(input(\"Enter second value = \"))\n",
    "if operator == \"+\":\n",
    "  val = Val1 + Val2\n",
    "  print(val,\"Answer\")\n",
    "elif operator == \"*\":\n",
    "    print(Val1*Val2,\"Answer\")\n",
    "elif operator == \"/\":\n",
    "    print(Val1/Val2,\"Answer\")\n",
    "elif operator == \"-\":\n",
    "    print(Val1-Val2,\"Answer\")\n",
    "elif operator == \"**\":\n",
    "    print(Val1**Val2,\"Answer\")\n",
    "    \n",
    "    "
   ]
  },
  {
   "cell_type": "code",
   "execution_count": 7,
   "metadata": {},
   "outputs": [
    {
     "name": "stdout",
     "output_type": "stream",
     "text": [
      "Numeric value found : 4\n",
      "Numeric value found : 5\n",
      "Numeric value found : 5.0\n"
     ]
    }
   ],
   "source": [
    "#2. Write a program to check if there is any numeric value in list using for loop \n",
    "the_list = [\"Haseeb\",\"3\", 4, 5, \"Hello\",\"Mansoor\",5.0]\n",
    "for value in the_list:\n",
    "    if type(value) == int or type(value) == float:\n",
    "        print(f\"Numeric value found : {value}\")"
   ]
  },
  {
   "cell_type": "code",
   "execution_count": 14,
   "metadata": {},
   "outputs": [
    {
     "name": "stdout",
     "output_type": "stream",
     "text": [
      "BEFORE {0: 'Haseeb', 1: 'Ali'}\n",
      "AFTER {0: 'Haseeb', 1: 'Ali', 2: 'Khan'}\n"
     ]
    }
   ],
   "source": [
    "#3. Write a Python script to add a key to a dictionary \n",
    "d = {0:\"Haseeb\", 1:\"Ali\"}\n",
    "print(\"BEFORE =\",d)\n",
    "d.update({2:\"Khan\"})\n",
    "print(\"AFTER =\",d)"
   ]
  },
  {
   "cell_type": "code",
   "execution_count": 9,
   "metadata": {},
   "outputs": [
    {
     "name": "stdout",
     "output_type": "stream",
     "text": [
      "Here is the dictionary = {'a': 100, 'b': 300, 'c': 400}\n",
      "Sum of numaric values = 800\n"
     ]
    }
   ],
   "source": [
    "#4. Write a Python program to sum all the numeric items in a dictionary \n",
    "A = {'a': 100, 'b':300, 'c':400} \n",
    "def returnSum(A): \n",
    "     sum = 0\n",
    "     for i in A.values(): \n",
    "           sum = sum + i \n",
    "       \n",
    "     return sum\n",
    "    \n",
    "print (\"Here is the dictionary =\",A)   \n",
    "print (\"Sum of numaric values =\", returnSum(A))"
   ]
  },
  {
   "cell_type": "code",
   "execution_count": 11,
   "metadata": {},
   "outputs": [
    {
     "name": "stdout",
     "output_type": "stream",
     "text": [
      "Here is the list = [10, 20, 30, 20, 20, 30, 40, 50, -20, 60, 60, -20, -20]\n",
      "Repeated value of list = [20, 30, -20, 60]\n"
     ]
    }
   ],
   "source": [
    "#5. Write a program to identify duplicate values from list \n",
    "def Repeat(x): \n",
    "    _size = len(x) \n",
    "    repeated = [] \n",
    "    for i in range(_size): \n",
    "        k = i + 1\n",
    "        for j in range(k, _size): \n",
    "            if x[i] == x[j] and x[i] not in repeated: \n",
    "                repeated.append(x[i]) \n",
    "    return repeated \n",
    "\n",
    "list1 = [10, 20, 30, 20, 20, 30, 40,50, -20, 60, 60, -20, -20] \n",
    "print (\"Here is the list =\",list1)\n",
    "print (\"Repeated value of list =\",Repeat(list1))"
   ]
  },
  {
   "cell_type": "code",
   "execution_count": 15,
   "metadata": {},
   "outputs": [
    {
     "name": "stdout",
     "output_type": "stream",
     "text": [
      "3 Already exists\n"
     ]
    }
   ],
   "source": [
    "#6. Write a Python script to check if a given key already exists in a dictionary\n",
    "dic = { 1: \"key1\",2: \"key2\",3: \"key3\"}\n",
    "given_key = 3\n",
    "for key in dic.keys():\n",
    "    if key == given_key:\n",
    "        print(f\"{given_key} Already exists\")"
   ]
  },
  {
   "cell_type": "code",
   "execution_count": null,
   "metadata": {},
   "outputs": [],
   "source": []
  }
 ],
 "metadata": {
  "kernelspec": {
   "display_name": "Python 3",
   "language": "python",
   "name": "python3"
  },
  "language_info": {
   "codemirror_mode": {
    "name": "ipython",
    "version": 3
   },
   "file_extension": ".py",
   "mimetype": "text/x-python",
   "name": "python",
   "nbconvert_exporter": "python",
   "pygments_lexer": "ipython3",
   "version": "3.7.4"
  }
 },
 "nbformat": 4,
 "nbformat_minor": 2
}
