{
 "cells": [
  {
   "cell_type": "code",
   "execution_count": 11,
   "metadata": {},
   "outputs": [
    {
     "name": "stdout",
     "output_type": "stream",
     "text": [
      "Enter Your First Subject Marks = 32\n",
      "Enter Your Second Subject Marks = 57\n",
      "enter Your Third Subject Marks = 46\n",
      "Enter Your  Fourth Subject Marks = 69\n",
      "Enter Your Fifth Subject Marks = 58\n",
      "Grade B\n"
     ]
    }
   ],
   "source": [
    "#1. Write a program which takes 5 inputs from user for different subject’s marks, total it and generate mark sheet using grades ? \n",
    "sub1 = int(input(\"Enter Your First Subject Marks = \"))\n",
    "sub2 = int(input(\"Enter Your Second Subject Marks = \"))\n",
    "sub3 = int(input(\"enter Your Third Subject Marks = \"))\n",
    "sub4 = int(input(\"Enter Your  Fourth Subject Marks = \"))\n",
    "sub5 = int(input(\"Enter Your Fifth Subject Marks = \"))\n",
    "avg = (sub1+sub2+sub3+sub4+sub5)/500 * 100\n",
    "if avg>=80: \n",
    "    print (\"Grade A+\")\n",
    "elif avg>=60 and avg<70 : \n",
    "    print (\"Grade A\")\n",
    "elif avg>=50 and avg<60: \n",
    "    print (\"Grade B\")\n",
    "elif avg>=40 and avg<50: \n",
    "    print (\"Grade C\")\n",
    "elif avg>=32 and avg<40: \n",
    "    print (\"Grade D\")\n",
    "else:\n",
    "    print (\"YOu are fail\")"
   ]
  },
  {
   "cell_type": "code",
   "execution_count": 17,
   "metadata": {},
   "outputs": [
    {
     "name": "stdout",
     "output_type": "stream",
     "text": [
      "Enter The Number = 2352587\n",
      "The Number is Odd\n"
     ]
    }
   ],
   "source": [
    "#2. Write a program which take input from user and identify that the given number is even or odd? \n",
    "Num = int(input(\"Enter The Number = \"))\n",
    "mod = Num % 2\n",
    "if mod > 0: \n",
    "    print (\"The Number is Odd\")\n",
    "else:\n",
    "    print (\"The Number is Even\")\n"
   ]
  },
  {
   "cell_type": "code",
   "execution_count": 12,
   "metadata": {},
   "outputs": [
    {
     "name": "stdout",
     "output_type": "stream",
     "text": [
      "Here is the list = ['Haseeb', 'shahzaib', 'Ali', 234]\n",
      "The length of list is = 4\n"
     ]
    }
   ],
   "source": [
    "#3. Write a program which print the length of the list? \n",
    "n = [\"Haseeb\",\"shahzaib\",\"Ali\",234]\n",
    "print (\"Here is the list =\",n)\n",
    "print(\"The length of list is =\", len(n))"
   ]
  },
  {
   "cell_type": "code",
   "execution_count": 5,
   "metadata": {},
   "outputs": [
    {
     "name": "stdout",
     "output_type": "stream",
     "text": [
      "Here is the list = [256, 345, 6578, 68, 543]\n",
      "Sum of elements in given list is = 7790\n"
     ]
    }
   ],
   "source": [
    "#4. Write a Python program to sum all the numeric items in a list? \n",
    "lst = [256, 345, 6578, 68, 543]\n",
    "print(\"Here is the list =\",lst)\n",
    "print(\"Sum of elements in given list is =\", sum(lst))"
   ]
  },
  {
   "cell_type": "code",
   "execution_count": 9,
   "metadata": {},
   "outputs": [
    {
     "name": "stdout",
     "output_type": "stream",
     "text": [
      "Here is the list = [100, 200, 45, 454, 993]\n",
      "Largest element is = 993\n"
     ]
    }
   ],
   "source": [
    "#5. Write a Python program to get the largest number from a numeric list. \n",
    "list1 = [100, 200, 45, 454, 993]\n",
    "print(\"Here is the list =\",list1)\n",
    "print(\"Largest element is =\", max(list1))"
   ]
  },
  {
   "cell_type": "code",
   "execution_count": 1,
   "metadata": {},
   "outputs": [
    {
     "name": "stdout",
     "output_type": "stream",
     "text": [
      "Here is the list = [1, 1, 2, 3, 5, 8, 13, 21, 34, 55, 89]\n",
      "number in list less than 5 = 1\n",
      "number in list less than 5 = 1\n",
      "number in list less than 5 = 2\n",
      "number in list less than 5 = 3\n"
     ]
    }
   ],
   "source": [
    "#6. Take a list, say for example this one: a = [1, 1, 2, 3, 5, 8, 13, 21, 34, 55, 89] and write a program that prints out all the elements of the list that are less than 5.\n",
    "num = [1, 1, 2, 3, 5, 8, 13, 21, 34, 55, 89]\n",
    "print(\"Here is the list =\",num)\n",
    "for b in num:\n",
    " if b < 5:\n",
    "    print(\"number in list less than 5 =\",b)"
   ]
  },
  {
   "cell_type": "code",
   "execution_count": null,
   "metadata": {},
   "outputs": [],
   "source": []
  },
  {
   "cell_type": "code",
   "execution_count": null,
   "metadata": {},
   "outputs": [],
   "source": []
  }
 ],
 "metadata": {
  "kernelspec": {
   "display_name": "Python 3",
   "language": "python",
   "name": "python3"
  },
  "language_info": {
   "codemirror_mode": {
    "name": "ipython",
    "version": 3
   },
   "file_extension": ".py",
   "mimetype": "text/x-python",
   "name": "python",
   "nbconvert_exporter": "python",
   "pygments_lexer": "ipython3",
   "version": "3.7.4"
  }
 },
 "nbformat": 4,
 "nbformat_minor": 2
}
